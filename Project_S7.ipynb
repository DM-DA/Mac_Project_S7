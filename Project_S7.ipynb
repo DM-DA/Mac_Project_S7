{
 "cells": [
  {
   "cell_type": "markdown",
   "metadata": {},
   "source": [
    "#  **PROJECT - SPRINT 7**"
   ]
  },
  {
   "cell_type": "markdown",
   "metadata": {},
   "source": [
    "##### ***1.** Importamos el archivo games.csv y hacemos una visualizacion general de la taba para identificar valores ausentes y tipos de datos que la conforman*"
   ]
  },
  {
   "cell_type": "code",
   "execution_count": null,
   "metadata": {},
   "outputs": [],
   "source": [
    "import pandas as pd\n",
    "import plotly.express as px\n",
    "import numpy as np\n",
    "\n",
    "#Vamos a leer el archivo\n",
    "games_data = pd.read_csv('games.csv')\n",
    "\n",
    "#Visualizar los tipos de datos que hay en la tabla\n",
    "print(games_data.info())"
   ]
  },
  {
   "cell_type": "markdown",
   "metadata": {},
   "source": [
    "##### ***2.** Calcular los porcentajes de valores nulos por cada columna para determinar como podemos tratarlos*"
   ]
  },
  {
   "cell_type": "code",
   "execution_count": null,
   "metadata": {},
   "outputs": [],
   "source": [
    "# Porcentaje de valores nulos por columna\n",
    "null_percentage = (games_data.isnull().sum() / len(games_data)) * 100\n",
    "null_percentage"
   ]
  },
  {
   "cell_type": "code",
   "execution_count": null,
   "metadata": {},
   "outputs": [],
   "source": [
    "# Pasar nombre de columnas a minusculas\n",
    "games_data.columns = games_data.columns.str.lower()\n",
    "\n",
    "# Eliminar filas con datos ausentes de las columnas name y year_of_release ya que esquivalian al 2% sobre el total de los datos\n",
    "games_data.dropna(subset=['name'], inplace=True)\n",
    "games_data.dropna(subset=['year_of_release'], inplace=True)\n",
    "\n",
    "# Convertir la columna year_of_release en Int\n",
    "games_data['year_of_release'] = games_data['year_of_release'].astype(int)\n",
    "\n",
    "games_data['critic_score'] = games_data['critic_score'].fillna(games_data['critic_score'].mean())\n",
    "#games_data['user_score'] = games_data['user_score'].astype(int)\n",
    "\n",
    "#games_data['user_score'] = games_data['user_score'].replace({'tbd' , np.nan})\n",
    "#games_data['user_score'] = games_data['user_score'].fillna(games_data['user_score'].mean())\n",
    "\n",
    "games_data.info()"
   ]
  }
 ],
 "metadata": {
  "kernelspec": {
   "display_name": "Project_env",
   "language": "python",
   "name": "python3"
  },
  "language_info": {
   "codemirror_mode": {
    "name": "ipython",
    "version": 3
   },
   "file_extension": ".py",
   "mimetype": "text/x-python",
   "name": "python",
   "nbconvert_exporter": "python",
   "pygments_lexer": "ipython3",
   "version": "3.12.4"
  }
 },
 "nbformat": 4,
 "nbformat_minor": 2
}
